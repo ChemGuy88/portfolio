{
 "cells": [
  {
   "cell_type": "markdown",
   "metadata": {},
   "source": [
    "# Simulating Virus Replication and Drug Resistance\n",
    "This notebook illustrates the function of the simulation. First we test the code and then we run some simulations\n",
    "## Code tests\n",
    "### `Virus` class tests"
   ]
  },
  {
   "cell_type": "code",
   "execution_count": 3,
   "metadata": {},
   "outputs": [
    {
     "ename": "TypeError",
     "evalue": "__init__() missing 2 required positional arguments: 'viruses' and 'maxPop'",
     "output_type": "error",
     "traceback": [
      "\u001b[1;31m---------------------------------------------------------------------------\u001b[0m",
      "\u001b[1;31mTypeError\u001b[0m                                 Traceback (most recent call last)",
      "\u001b[1;32mautoreh\\Professional Development\\Data Science Portfolio\\Python Examples\\Stochastic Model-Virus\\notebook.ipynb Cell 2'\u001b[0m in \u001b[0;36m<cell line: 10>\u001b[1;34m()\u001b[0m\n\u001b[0;32m      <a href='vscode-notebook-cell://hq3hfsvip01/autoreh/Professional%20Development/Data%20Science%20Portfolio/Python%20Examples/Stochastic%20Model-Virus/notebook.ipynb#ch0000000?line=7'>8</a>\u001b[0m viruses \u001b[39m=\u001b[39m []\n\u001b[0;32m      <a href='vscode-notebook-cell://hq3hfsvip01/autoreh/Professional%20Development/Data%20Science%20Portfolio/Python%20Examples/Stochastic%20Model-Virus/notebook.ipynb#ch0000000?line=8'>9</a>\u001b[0m maxPop \u001b[39m=\u001b[39m random\u001b[39m.\u001b[39mrandom()\n\u001b[1;32m---> <a href='vscode-notebook-cell://hq3hfsvip01/autoreh/Professional%20Development/Data%20Science%20Portfolio/Python%20Examples/Stochastic%20Model-Virus/notebook.ipynb#ch0000000?line=9'>10</a>\u001b[0m patient \u001b[39m=\u001b[39m Patient()\n\u001b[0;32m     <a href='vscode-notebook-cell://hq3hfsvip01/autoreh/Professional%20Development/Data%20Science%20Portfolio/Python%20Examples/Stochastic%20Model-Virus/notebook.ipynb#ch0000000?line=10'>11</a>\u001b[0m \u001b[39m# Initialize a SimpleVirus that is never cleared and always reproduces\u001b[39;00m\n\u001b[0;32m     <a href='vscode-notebook-cell://hq3hfsvip01/autoreh/Professional%20Development/Data%20Science%20Portfolio/Python%20Examples/Stochastic%20Model-Virus/notebook.ipynb#ch0000000?line=11'>12</a>\u001b[0m v1 \u001b[39m=\u001b[39m SimpleVirus(\u001b[39m1.0\u001b[39m, \u001b[39m0.0\u001b[39m)\n",
      "\u001b[1;31mTypeError\u001b[0m: __init__() missing 2 required positional arguments: 'viruses' and 'maxPop'"
     ]
    }
   ],
   "source": [
    "import random\n",
    "from script import *\n",
    "\n",
    "maxBirthProb = random.random()\n",
    "clearProb = random.random()\n",
    "virus = SimpleVirus(maxBirthProb, clearProb)\n",
    "\n",
    "viruses = []\n",
    "maxPop = random.random()\n",
    "patient = Patient(viruses, maxPop)\n",
    "# Initialize a SimpleVirus that is never cleared and always reproduces\n",
    "v1 = SimpleVirus(1.0, 0.0)\n",
    "# Initialize a SimpleVirus that is never cleared and never reproduces\n",
    "v1 = SimpleVirus(0.0, 0.0)\n",
    "# Initialize a SimpleVirus that is always cleared and always reproduces\n",
    "v1 = SimpleVirus(1.0, 1.0)\n",
    "# Initialize a SimpleVirus that is always cleared and never reproduces\n",
    "v1 = SimpleVirus(0.0, 1.0)\n",
    "# Initialize a SimpleVirus with randomized probabilities\n",
    "v1 = SimpleVirus(0.96, 0.45)"
   ]
  },
  {
   "cell_type": "markdown",
   "metadata": {},
   "source": [
    "### `Patient` class tests"
   ]
  },
  {
   "cell_type": "code",
   "execution_count": 4,
   "metadata": {},
   "outputs": [
    {
     "ename": "SyntaxError",
     "evalue": "invalid syntax (947673477.py, line 2)",
     "output_type": "error",
     "traceback": [
      "\u001b[1;36m  Input \u001b[1;32mIn [4]\u001b[1;36m\u001b[0m\n\u001b[1;33m    viruses = [ SimpleVirus(0.02, 0.95) SimpleVirus(0.65, 0.3) SimpleVirus(0.66, 0.66) SimpleVirus(0.98, 0.35) ]\u001b[0m\n\u001b[1;37m                                        ^\u001b[0m\n\u001b[1;31mSyntaxError\u001b[0m\u001b[1;31m:\u001b[0m invalid syntax\n"
     ]
    }
   ],
   "source": [
    "# Initialize a Patient with randomized viruses\n",
    "viruses = [ SimpleVirus(0.02, 0.95) SimpleVirus(0.65, 0.3) SimpleVirus(0.66, 0.66) SimpleVirus(0.98, 0.35) ]\n",
    "P1 = Patient(viruses, 7)\n",
    "P1.getTotalPop() = 4\n",
    "\n",
    "# Create a Patient with virus that is never cleared and always reproduces\n",
    "virus = SimpleVirus(1.0, 0.0)\n",
    "patient = Patient([virus], 100)\n",
    "# Updating the patient for 100 trials...\n",
    "# patient.getTotalPop() expected to be >= 100\n",
    "# Test successfully completed\n",
    "\n",
    "# Create a Patient with virus that is always cleared and always reproduces\n",
    "virus = SimpleVirus(1.0, 1.0)\n",
    "patient = Patient([virus], 100)\n",
    "# Updating the patient for 100 trials...\n",
    "# patient.getTotalPop() expected to = 0\n",
    "# Test successfully completed\n",
    "\n",
    "# Initialize a Patient with randomized viruses\n",
    "viruses = [ SimpleVirus(0.34, 0.76) ]\n",
    "P1 = Patient(viruses, 8)\n",
    "P1.getTotalPop() = 1"
   ]
  },
  {
   "cell_type": "markdown",
   "metadata": {},
   "source": [
    "### Testing simulations with simple viruses (no drug resistance)"
   ]
  },
  {
   "cell_type": "code",
   "execution_count": null,
   "metadata": {},
   "outputs": [],
   "source": [
    "# Test: simulation 1\n",
    "# Test: simulationWithoutDrug(1, 10, 1.0, 0.0, 1)\n",
    "# Pass\n",
    "\n",
    "# Test: simulation 2\n",
    "# Test: simulationWithoutDrug(100, 200, 0.2, 0.8, 1)\n",
    "# Pass\n",
    "\n",
    "# Test: simulation 3\n",
    "# Test: simulationWithoutDrug(1, 90, 0.8, 0.1, 1)\n",
    "# Pass"
   ]
  },
  {
   "cell_type": "markdown",
   "metadata": {},
   "source": [
    "### `ResistantVirus` class tests"
   ]
  },
  {
   "cell_type": "code",
   "execution_count": 6,
   "metadata": {},
   "outputs": [],
   "source": [
    "# Tests 1 to 9"
   ]
  },
  {
   "cell_type": "markdown",
   "metadata": {},
   "source": [
    "### `TreatedPatient` class tests"
   ]
  },
  {
   "cell_type": "code",
   "execution_count": 7,
   "metadata": {},
   "outputs": [],
   "source": [
    "# Tests 1 to 6"
   ]
  },
  {
   "cell_type": "markdown",
   "metadata": {},
   "source": [
    "### Testing simulations with drug-resistant viruses\n",
    "Run the three tests below and see if they match the results from edx."
   ]
  },
  {
   "cell_type": "code",
   "execution_count": 5,
   "metadata": {},
   "outputs": [],
   "source": [
    "# Test: simulation 1\n",
    "# Test: simulationWithDrug(1, 10, 1.0, 0.0, {}, 1.0, 5)\n",
    "\n",
    "# Test: simulation 2\n",
    "# Test: simulationWithDrug(1, 20, 1.0, 0.0, {\"guttagonol\": True}, 1.0, 5)\n",
    "\n",
    "# Test: simulation 3\n",
    "# Test: simulationWithDrug(75, 100, .8, 0.1, {\"guttagonol\": True}, 0.8, 1)"
   ]
  },
  {
   "cell_type": "markdown",
   "metadata": {},
   "source": [
    "## Sandbox Simulations\n",
    "Define our own parameters to run a simulation"
   ]
  }
 ],
 "metadata": {
  "interpreter": {
   "hash": "cfe04081afe197a3e1e51e821cf7a0b64610680799f78c80ba03e5c0f2f4626d"
  },
  "kernelspec": {
   "display_name": "Python 3.8.13 ('virus-sim')",
   "language": "python",
   "name": "python3"
  },
  "language_info": {
   "codemirror_mode": {
    "name": "ipython",
    "version": 3
   },
   "file_extension": ".py",
   "mimetype": "text/x-python",
   "name": "python",
   "nbconvert_exporter": "python",
   "pygments_lexer": "ipython3",
   "version": "3.8.13"
  },
  "orig_nbformat": 4
 },
 "nbformat": 4,
 "nbformat_minor": 2
}
