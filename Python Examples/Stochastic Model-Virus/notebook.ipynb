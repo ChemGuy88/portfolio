{
 "cells": [
  {
   "cell_type": "markdown",
   "metadata": {},
   "source": [
    "# Simulating Virus Replication and Drug Resistance\n",
    "This notebook illustrates the function of the simulation. First we test the code and then we run some simulations\n",
    "## Code tests\n",
    "### `Virus` class tests"
   ]
  },
  {
   "cell_type": "code",
   "execution_count": null,
   "metadata": {},
   "outputs": [],
   "source": [
    "import random\n",
    "from script import *\n",
    "\n",
    "maxBirthProb = random.random()\n",
    "clearProb = random.random()\n",
    "virus = SimpleVirus(maxBirthProb, clearProb)\n",
    "\n",
    "viruses = []\n",
    "maxPop = random.random()\n",
    "patient = Patient(viruses, maxPop)\n",
    "# Initialize a SimpleVirus that is never cleared and always reproduces\n",
    "v1 = SimpleVirus(1.0, 0.0)\n",
    "# Initialize a SimpleVirus that is never cleared and never reproduces\n",
    "v1 = SimpleVirus(0.0, 0.0)"
   ]
  },
  {
   "cell_type": "markdown",
   "metadata": {},
   "source": [
    "#### Test: SimpleVirus 3\n",
    "Initialize a SimpleVirus that is always cleared and always reproduces"
   ]
  },
  {
   "cell_type": "code",
   "execution_count": 30,
   "metadata": {},
   "outputs": [
    {
     "name": "stdout",
     "output_type": "stream",
     "text": [
      "True\n",
      "True\n",
      "True\n",
      "True\n",
      "True\n",
      "True\n",
      "True\n",
      "True\n",
      "True\n",
      "True\n"
     ]
    }
   ],
   "source": [
    "v1 = SimpleVirus(1.0, 1.0)\n",
    "popDensity = 0\n",
    "for _ in range(10):\n",
    "    try:\n",
    "        v1.reproduce(popDensity)\n",
    "        print(v1.doesClear() == True)\n",
    "    except NoChildException:\n",
    "        pass\n",
    "# Test completed."
   ]
  },
  {
   "cell_type": "markdown",
   "metadata": {},
   "source": [
    "#### Test: SimpleVirus 4\n",
    "Initialize a SimpleVirus that is always cleared and never reproduces"
   ]
  },
  {
   "cell_type": "code",
   "execution_count": 31,
   "metadata": {},
   "outputs": [
    {
     "name": "stdout",
     "output_type": "stream",
     "text": [
      "True\n",
      "True\n",
      "True\n",
      "True\n",
      "True\n",
      "True\n",
      "True\n",
      "True\n",
      "True\n",
      "True\n"
     ]
    }
   ],
   "source": [
    "v1 = SimpleVirus(0.0, 1.0)\n",
    "popDensity = 0\n",
    "for _ in range(10):\n",
    "    try:\n",
    "        v1.reproduce(popDensity)\n",
    "    except NoChildException:\n",
    "        print(v1.doesClear() == True)\n",
    "# Test completed."
   ]
  },
  {
   "cell_type": "markdown",
   "metadata": {},
   "source": [
    "#### Test: SimpleVirus 5\n",
    "Initialize a SimpleVirus with randomized probabilities"
   ]
  },
  {
   "cell_type": "code",
   "execution_count": 24,
   "metadata": {},
   "outputs": [
    {
     "name": "stdout",
     "output_type": "stream",
     "text": [
      "Reproduced succesfully\n",
      "Reproduced succesfully\n",
      "Reproduced succesfully\n",
      "Reproduced succesfully\n",
      "Reproduced succesfully\n",
      "Reproduced succesfully\n",
      "Reproduced succesfully\n",
      "Reproduced succesfully\n",
      "Reproduced succesfully\n",
      "Reproduced succesfully\n"
     ]
    }
   ],
   "source": [
    "v1 = SimpleVirus(0.96, 0.45)\n",
    "popDensity = 0.02\n",
    "for _ in range(10):\n",
    "    try:\n",
    "        v1.reproduce(popDensity)\n",
    "        print(\"Reproduced succesfully\")\n",
    "    except NoChildException:\n",
    "        print(\"Oops!\")\n",
    "# Test completed.\n",
    "    \n"
   ]
  },
  {
   "cell_type": "markdown",
   "metadata": {},
   "source": [
    "### `Patient` class tests\n",
    "#### Test: class Patient 1\n",
    "Initialize a Patient with randomized viruses"
   ]
  },
  {
   "cell_type": "code",
   "execution_count": 9,
   "metadata": {},
   "outputs": [
    {
     "name": "stdout",
     "output_type": "stream",
     "text": [
      "True\n"
     ]
    }
   ],
   "source": [
    "viruses = [SimpleVirus(0.02, 0.95), SimpleVirus(0.65, 0.3), SimpleVirus(0.66, 0.66), SimpleVirus(0.98, 0.35)]\n",
    "P1 = Patient(viruses, 7)\n",
    "print(P1.getTotalPop() == 4)  # True"
   ]
  },
  {
   "cell_type": "markdown",
   "metadata": {},
   "source": [
    "#### Test: class Patient 2\n",
    "Create a Patient with virus that is never cleared and always reproduces"
   ]
  },
  {
   "cell_type": "code",
   "execution_count": 16,
   "metadata": {},
   "outputs": [
    {
     "data": {
      "text/plain": [
       "True"
      ]
     },
     "execution_count": 16,
     "metadata": {},
     "output_type": "execute_result"
    }
   ],
   "source": [
    "virus = SimpleVirus(1.0, 0.0)\n",
    "patient = Patient([virus], 100)\n",
    "# Updating the patient for 100 trials...\n",
    "for _ in range(100):\n",
    "    patient.update()\n",
    "# patient.getTotalPop() expected to be >= 100\n",
    "patient.getTotalPop() >= 100  # True\n",
    "# Test successfully completed"
   ]
  },
  {
   "cell_type": "markdown",
   "metadata": {},
   "source": [
    "#### Test: class Patient 3\n",
    "Create a Patient with virus that is always cleared and always reproduces"
   ]
  },
  {
   "cell_type": "code",
   "execution_count": 17,
   "metadata": {},
   "outputs": [
    {
     "data": {
      "text/plain": [
       "True"
      ]
     },
     "execution_count": 17,
     "metadata": {},
     "output_type": "execute_result"
    }
   ],
   "source": [
    "virus = SimpleVirus(1.0, 1.0)\n",
    "patient = Patient([virus], 100)\n",
    "# Updating the patient for 100 trials...\n",
    "for _ in range(100):\n",
    "    patient.update()\n",
    "# patient.getTotalPop() expected to = 0\n",
    "patient.getTotalPop() == 0  # True\n",
    "# Test successfully completed"
   ]
  },
  {
   "cell_type": "markdown",
   "metadata": {},
   "source": [
    "#### Test: class Patient 4\n",
    "Initialize a Patient with randomized viruses"
   ]
  },
  {
   "cell_type": "code",
   "execution_count": 20,
   "metadata": {},
   "outputs": [
    {
     "name": "stdout",
     "output_type": "stream",
     "text": [
      "True\n",
      "True\n",
      "True\n",
      "True\n",
      "True\n",
      "True\n",
      "True\n",
      "True\n",
      "True\n",
      "True\n",
      "True\n"
     ]
    }
   ],
   "source": [
    "viruses = [ SimpleVirus(0.34, 0.76) ]\n",
    "P1 = Patient(viruses, 8)\n",
    "print(P1.getTotalPop() == 1)  # True\n",
    "for _ in range(10):\n",
    "    P1.update()\n",
    "    print(len(P1.viruses) < P1.maxPop)\n",
    "# Test Completed"
   ]
  },
  {
   "cell_type": "markdown",
   "metadata": {},
   "source": [
    "### Testing simulations with simple viruses (no drug resistance)"
   ]
  },
  {
   "cell_type": "code",
   "execution_count": null,
   "metadata": {},
   "outputs": [],
   "source": [
    "# Test: simulation 1\n",
    "# Test: simulationWithoutDrug(1, 10, 1.0, 0.0, 1)\n",
    "# Pass\n",
    "\n",
    "# Test: simulation 2\n",
    "# Test: simulationWithoutDrug(100, 200, 0.2, 0.8, 1)\n",
    "# Pass\n",
    "\n",
    "# Test: simulation 3\n",
    "# Test: simulationWithoutDrug(1, 90, 0.8, 0.1, 1)\n",
    "# Pass"
   ]
  },
  {
   "cell_type": "markdown",
   "metadata": {},
   "source": [
    "### `ResistantVirus` class tests"
   ]
  },
  {
   "cell_type": "code",
   "execution_count": null,
   "metadata": {},
   "outputs": [],
   "source": [
    "# Tests 1 to 9"
   ]
  },
  {
   "cell_type": "markdown",
   "metadata": {},
   "source": [
    "### `TreatedPatient` class tests"
   ]
  },
  {
   "cell_type": "code",
   "execution_count": null,
   "metadata": {},
   "outputs": [],
   "source": [
    "# Tests 1 to 6"
   ]
  },
  {
   "cell_type": "markdown",
   "metadata": {},
   "source": [
    "### Testing simulations with drug-resistant viruses\n",
    "Run the three tests below and see if they match the results from edx."
   ]
  },
  {
   "cell_type": "code",
   "execution_count": null,
   "metadata": {},
   "outputs": [],
   "source": [
    "# Test: simulation 1\n",
    "# Test: simulationWithDrug(1, 10, 1.0, 0.0, {}, 1.0, 5)\n",
    "\n",
    "# Test: simulation 2\n",
    "# Test: simulationWithDrug(1, 20, 1.0, 0.0, {\"guttagonol\": True}, 1.0, 5)\n",
    "\n",
    "# Test: simulation 3\n",
    "# Test: simulationWithDrug(75, 100, .8, 0.1, {\"guttagonol\": True}, 0.8, 1)"
   ]
  },
  {
   "cell_type": "markdown",
   "metadata": {},
   "source": [
    "## Sandbox Simulations\n",
    "Define our own parameters to run a simulation"
   ]
  }
 ],
 "metadata": {
  "interpreter": {
   "hash": "cfe04081afe197a3e1e51e821cf7a0b64610680799f78c80ba03e5c0f2f4626d"
  },
  "kernelspec": {
   "display_name": "Python 3.8.13 ('virus-sim')",
   "language": "python",
   "name": "python3"
  },
  "language_info": {
   "codemirror_mode": {
    "name": "ipython",
    "version": 3
   },
   "file_extension": ".py",
   "mimetype": "text/x-python",
   "name": "python",
   "nbconvert_exporter": "python",
   "pygments_lexer": "ipython3",
   "version": "3.8.13"
  },
  "orig_nbformat": 4
 },
 "nbformat": 4,
 "nbformat_minor": 2
}
